{
 "cells": [
  {
   "cell_type": "markdown",
   "id": "8b6beae2",
   "metadata": {},
   "source": []
  },
  {
   "cell_type": "markdown",
   "id": "8f301eb6",
   "metadata": {},
   "source": [
    "# Create Feature Groups and Backfill Features\n",
    "\n",
    "[![Open In Colab](https://colab.research.google.com/assets/colab-badge.svg)](https://colab.research.google.com/github/featurestoreorg/serverless-ml-course/blob/main/src/02-module/1_backfill_cc_feature_groups.ipynb)\n",
    "\n",
    "**Note**: you may get an error when installing hopsworks on Colab, and it is safe to ignore it.\n",
    "\n",
    "\n",
    "First, you need to install the hopsworks library."
   ]
  },
  {
   "cell_type": "code",
   "execution_count": 1,
   "id": "12509dff",
   "metadata": {},
   "outputs": [],
   "source": [
    "!pip install -U hopsworks --quiet"
   ]
  },
  {
   "cell_type": "markdown",
   "id": "00236df9",
   "metadata": {},
   "source": [
    "## <span style=\"color:#ff5f27;\"> 💽 Loading the Data </span>\n",
    "\n",
    "The backfill data you will use comes from three different CSV files:\n",
    "\n",
    "- `credit_cards.csv`: credit card information such as expiration date and provider.\n",
    "- `transactions.csv`: transaction information such as timestamp, location, and the amount. Importantly, the binary `fraud_label` variable tells us whether a transaction was fraudulent or not.\n",
    "- `profiles.csv`: credit card user information such as birthdate and city of residence.\n",
    "\n",
    "You can conceptualize these CSV files as originating from separate data sources.\n",
    "**All three files have a credit card number column `cc_num` in common (a natural join key).**\n"
   ]
  },
  {
   "cell_type": "code",
   "execution_count": 2,
   "id": "9d357008",
   "metadata": {},
   "outputs": [
    {
     "name": "stderr",
     "output_type": "stream",
     "text": [
      "/home/codespace/.local/lib/python3.10/site-packages/tqdm/auto.py:21: TqdmWarning: IProgress not found. Please update jupyter and ipywidgets. See https://ipywidgets.readthedocs.io/en/stable/user_install.html\n",
      "  from .autonotebook import tqdm as notebook_tqdm\n"
     ]
    }
   ],
   "source": [
    "import pandas as pd\n",
    "from datetime import datetime\n",
    "import hopsworks"
   ]
  },
  {
   "cell_type": "code",
   "execution_count": 3,
   "id": "eb3b48f5",
   "metadata": {},
   "outputs": [
    {
     "data": {
      "text/html": [
       "<div>\n",
       "<style scoped>\n",
       "    .dataframe tbody tr th:only-of-type {\n",
       "        vertical-align: middle;\n",
       "    }\n",
       "\n",
       "    .dataframe tbody tr th {\n",
       "        vertical-align: top;\n",
       "    }\n",
       "\n",
       "    .dataframe thead th {\n",
       "        text-align: right;\n",
       "    }\n",
       "</style>\n",
       "<table border=\"1\" class=\"dataframe\">\n",
       "  <thead>\n",
       "    <tr style=\"text-align: right;\">\n",
       "      <th></th>\n",
       "      <th>cc_num</th>\n",
       "      <th>provider</th>\n",
       "      <th>expires</th>\n",
       "    </tr>\n",
       "  </thead>\n",
       "  <tbody>\n",
       "    <tr>\n",
       "      <th>0</th>\n",
       "      <td>4796807885357879</td>\n",
       "      <td>visa</td>\n",
       "      <td>05/23</td>\n",
       "    </tr>\n",
       "    <tr>\n",
       "      <th>1</th>\n",
       "      <td>4529266636192966</td>\n",
       "      <td>visa</td>\n",
       "      <td>03/22</td>\n",
       "    </tr>\n",
       "    <tr>\n",
       "      <th>2</th>\n",
       "      <td>4922690008243953</td>\n",
       "      <td>visa</td>\n",
       "      <td>02/27</td>\n",
       "    </tr>\n",
       "    <tr>\n",
       "      <th>3</th>\n",
       "      <td>4897369589533543</td>\n",
       "      <td>visa</td>\n",
       "      <td>04/22</td>\n",
       "    </tr>\n",
       "    <tr>\n",
       "      <th>4</th>\n",
       "      <td>4848518335893425</td>\n",
       "      <td>visa</td>\n",
       "      <td>10/26</td>\n",
       "    </tr>\n",
       "  </tbody>\n",
       "</table>\n",
       "</div>"
      ],
      "text/plain": [
       "             cc_num provider expires\n",
       "0  4796807885357879     visa   05/23\n",
       "1  4529266636192966     visa   03/22\n",
       "2  4922690008243953     visa   02/27\n",
       "3  4897369589533543     visa   04/22\n",
       "4  4848518335893425     visa   10/26"
      ]
     },
     "execution_count": 3,
     "metadata": {},
     "output_type": "execute_result"
    }
   ],
   "source": [
    "url = \"https://repo.hops.works/master/hopsworks-tutorials/data/card_fraud_data\"\n",
    "credit_cards_df = pd.read_parquet(url + \"/credit_cards.parquet\")\n",
    "credit_cards_df.head(5)"
   ]
  },
  {
   "cell_type": "code",
   "execution_count": 4,
   "id": "fe4196dc",
   "metadata": {},
   "outputs": [
    {
     "name": "stdout",
     "output_type": "stream",
     "text": [
      "<class 'pandas.core.frame.DataFrame'>\n",
      "RangeIndex: 2000 entries, 0 to 1999\n",
      "Data columns (total 3 columns):\n",
      " #   Column    Non-Null Count  Dtype \n",
      "---  ------    --------------  ----- \n",
      " 0   cc_num    2000 non-null   int64 \n",
      " 1   provider  2000 non-null   object\n",
      " 2   expires   2000 non-null   object\n",
      "dtypes: int64(1), object(2)\n",
      "memory usage: 47.0+ KB\n"
     ]
    }
   ],
   "source": [
    "credit_cards_df.info()"
   ]
  },
  {
   "cell_type": "code",
   "execution_count": 5,
   "id": "e362288c",
   "metadata": {},
   "outputs": [
    {
     "data": {
      "text/html": [
       "<div>\n",
       "<style scoped>\n",
       "    .dataframe tbody tr th:only-of-type {\n",
       "        vertical-align: middle;\n",
       "    }\n",
       "\n",
       "    .dataframe tbody tr th {\n",
       "        vertical-align: top;\n",
       "    }\n",
       "\n",
       "    .dataframe thead th {\n",
       "        text-align: right;\n",
       "    }\n",
       "</style>\n",
       "<table border=\"1\" class=\"dataframe\">\n",
       "  <thead>\n",
       "    <tr style=\"text-align: right;\">\n",
       "      <th></th>\n",
       "      <th>name</th>\n",
       "      <th>sex</th>\n",
       "      <th>mail</th>\n",
       "      <th>birthdate</th>\n",
       "      <th>City</th>\n",
       "      <th>Country</th>\n",
       "      <th>cc_num</th>\n",
       "    </tr>\n",
       "  </thead>\n",
       "  <tbody>\n",
       "    <tr>\n",
       "      <th>0</th>\n",
       "      <td>Catherine Zimmerman</td>\n",
       "      <td>F</td>\n",
       "      <td>valenciajason@hotmail.com</td>\n",
       "      <td>1988-09-20</td>\n",
       "      <td>Bryn Mawr-Skyway</td>\n",
       "      <td>US</td>\n",
       "      <td>4796807885357879</td>\n",
       "    </tr>\n",
       "    <tr>\n",
       "      <th>1</th>\n",
       "      <td>Michael Williams</td>\n",
       "      <td>M</td>\n",
       "      <td>brettkennedy@yahoo.com</td>\n",
       "      <td>1977-03-01</td>\n",
       "      <td>Gates-North Gates</td>\n",
       "      <td>US</td>\n",
       "      <td>4529266636192966</td>\n",
       "    </tr>\n",
       "    <tr>\n",
       "      <th>2</th>\n",
       "      <td>Jessica Krueger</td>\n",
       "      <td>F</td>\n",
       "      <td>marthacruz@hotmail.com</td>\n",
       "      <td>1947-09-10</td>\n",
       "      <td>Greenfield</td>\n",
       "      <td>US</td>\n",
       "      <td>4922690008243953</td>\n",
       "    </tr>\n",
       "    <tr>\n",
       "      <th>3</th>\n",
       "      <td>Ruth Harris</td>\n",
       "      <td>F</td>\n",
       "      <td>james11@yahoo.com</td>\n",
       "      <td>1983-12-27</td>\n",
       "      <td>New City</td>\n",
       "      <td>US</td>\n",
       "      <td>4897369589533543</td>\n",
       "    </tr>\n",
       "    <tr>\n",
       "      <th>4</th>\n",
       "      <td>Paul Ashley</td>\n",
       "      <td>M</td>\n",
       "      <td>matthew97@hotmail.com</td>\n",
       "      <td>1974-11-10</td>\n",
       "      <td>Peabody</td>\n",
       "      <td>US</td>\n",
       "      <td>4848518335893425</td>\n",
       "    </tr>\n",
       "  </tbody>\n",
       "</table>\n",
       "</div>"
      ],
      "text/plain": [
       "                  name sex                       mail  birthdate  \\\n",
       "0  Catherine Zimmerman   F  valenciajason@hotmail.com 1988-09-20   \n",
       "1     Michael Williams   M     brettkennedy@yahoo.com 1977-03-01   \n",
       "2      Jessica Krueger   F     marthacruz@hotmail.com 1947-09-10   \n",
       "3          Ruth Harris   F          james11@yahoo.com 1983-12-27   \n",
       "4          Paul Ashley   M      matthew97@hotmail.com 1974-11-10   \n",
       "\n",
       "                City Country            cc_num  \n",
       "0   Bryn Mawr-Skyway      US  4796807885357879  \n",
       "1  Gates-North Gates      US  4529266636192966  \n",
       "2         Greenfield      US  4922690008243953  \n",
       "3           New City      US  4897369589533543  \n",
       "4            Peabody      US  4848518335893425  "
      ]
     },
     "execution_count": 5,
     "metadata": {},
     "output_type": "execute_result"
    }
   ],
   "source": [
    "profiles_df = pd.read_parquet(url + \"/profiles.parquet\")\n",
    "profiles_df.head(5)"
   ]
  },
  {
   "cell_type": "code",
   "execution_count": 6,
   "id": "ae7bf805",
   "metadata": {},
   "outputs": [
    {
     "name": "stdout",
     "output_type": "stream",
     "text": [
      "<class 'pandas.core.frame.DataFrame'>\n",
      "RangeIndex: 2000 entries, 0 to 1999\n",
      "Data columns (total 7 columns):\n",
      " #   Column     Non-Null Count  Dtype         \n",
      "---  ------     --------------  -----         \n",
      " 0   name       2000 non-null   object        \n",
      " 1   sex        2000 non-null   object        \n",
      " 2   mail       2000 non-null   object        \n",
      " 3   birthdate  2000 non-null   datetime64[ns]\n",
      " 4   City       2000 non-null   object        \n",
      " 5   Country    2000 non-null   object        \n",
      " 6   cc_num     2000 non-null   int64         \n",
      "dtypes: datetime64[ns](1), int64(1), object(5)\n",
      "memory usage: 109.5+ KB\n"
     ]
    }
   ],
   "source": [
    "profiles_df.info()"
   ]
  },
  {
   "cell_type": "code",
   "execution_count": 7,
   "id": "4b112cf5",
   "metadata": {},
   "outputs": [
    {
     "data": {
      "text/html": [
       "<div>\n",
       "<style scoped>\n",
       "    .dataframe tbody tr th:only-of-type {\n",
       "        vertical-align: middle;\n",
       "    }\n",
       "\n",
       "    .dataframe tbody tr th {\n",
       "        vertical-align: top;\n",
       "    }\n",
       "\n",
       "    .dataframe thead th {\n",
       "        text-align: right;\n",
       "    }\n",
       "</style>\n",
       "<table border=\"1\" class=\"dataframe\">\n",
       "  <thead>\n",
       "    <tr style=\"text-align: right;\">\n",
       "      <th></th>\n",
       "      <th>tid</th>\n",
       "      <th>datetime</th>\n",
       "      <th>cc_num</th>\n",
       "      <th>category</th>\n",
       "      <th>amount</th>\n",
       "      <th>latitude</th>\n",
       "      <th>longitude</th>\n",
       "      <th>city</th>\n",
       "      <th>country</th>\n",
       "      <th>fraud_label</th>\n",
       "    </tr>\n",
       "  </thead>\n",
       "  <tbody>\n",
       "    <tr>\n",
       "      <th>0</th>\n",
       "      <td>11df919988c134d97bbff2678eb68e22</td>\n",
       "      <td>2022-01-01 00:00:24</td>\n",
       "      <td>4473593503484549</td>\n",
       "      <td>Health/Beauty</td>\n",
       "      <td>62.95</td>\n",
       "      <td>42.30865</td>\n",
       "      <td>-83.48216</td>\n",
       "      <td>Canton</td>\n",
       "      <td>US</td>\n",
       "      <td>0</td>\n",
       "    </tr>\n",
       "    <tr>\n",
       "      <th>1</th>\n",
       "      <td>dd0b2d6d4266ccd3bf05bc2ea91cf180</td>\n",
       "      <td>2022-01-01 00:00:56</td>\n",
       "      <td>4272465718946864</td>\n",
       "      <td>Grocery</td>\n",
       "      <td>85.45</td>\n",
       "      <td>33.52253</td>\n",
       "      <td>-117.70755</td>\n",
       "      <td>Laguna Niguel</td>\n",
       "      <td>US</td>\n",
       "      <td>0</td>\n",
       "    </tr>\n",
       "    <tr>\n",
       "      <th>2</th>\n",
       "      <td>e627f5d9a9739833bd52d2da51761fc3</td>\n",
       "      <td>2022-01-01 00:02:32</td>\n",
       "      <td>4104216579248948</td>\n",
       "      <td>Domestic Transport</td>\n",
       "      <td>21.63</td>\n",
       "      <td>37.60876</td>\n",
       "      <td>-77.37331</td>\n",
       "      <td>Mechanicsville</td>\n",
       "      <td>US</td>\n",
       "      <td>0</td>\n",
       "    </tr>\n",
       "  </tbody>\n",
       "</table>\n",
       "</div>"
      ],
      "text/plain": [
       "                                tid            datetime            cc_num  \\\n",
       "0  11df919988c134d97bbff2678eb68e22 2022-01-01 00:00:24  4473593503484549   \n",
       "1  dd0b2d6d4266ccd3bf05bc2ea91cf180 2022-01-01 00:00:56  4272465718946864   \n",
       "2  e627f5d9a9739833bd52d2da51761fc3 2022-01-01 00:02:32  4104216579248948   \n",
       "\n",
       "             category  amount  latitude  longitude            city country  \\\n",
       "0       Health/Beauty   62.95  42.30865  -83.48216          Canton      US   \n",
       "1             Grocery   85.45  33.52253 -117.70755   Laguna Niguel      US   \n",
       "2  Domestic Transport   21.63  37.60876  -77.37331  Mechanicsville      US   \n",
       "\n",
       "   fraud_label  \n",
       "0            0  \n",
       "1            0  \n",
       "2            0  "
      ]
     },
     "execution_count": 7,
     "metadata": {},
     "output_type": "execute_result"
    }
   ],
   "source": [
    "trans_df = pd.read_parquet(url + \"/transactions.parquet\")\n",
    "trans_df.head(3)"
   ]
  },
  {
   "cell_type": "code",
   "execution_count": 8,
   "id": "83a71898",
   "metadata": {},
   "outputs": [
    {
     "name": "stdout",
     "output_type": "stream",
     "text": [
      "<class 'pandas.core.frame.DataFrame'>\n",
      "RangeIndex: 106020 entries, 0 to 106019\n",
      "Data columns (total 10 columns):\n",
      " #   Column       Non-Null Count   Dtype         \n",
      "---  ------       --------------   -----         \n",
      " 0   tid          106020 non-null  object        \n",
      " 1   datetime     106020 non-null  datetime64[ns]\n",
      " 2   cc_num       106020 non-null  int64         \n",
      " 3   category     106020 non-null  object        \n",
      " 4   amount       106020 non-null  float64       \n",
      " 5   latitude     106020 non-null  float64       \n",
      " 6   longitude    106020 non-null  float64       \n",
      " 7   city         106020 non-null  object        \n",
      " 8   country      106020 non-null  object        \n",
      " 9   fraud_label  106020 non-null  int64         \n",
      "dtypes: datetime64[ns](1), float64(3), int64(2), object(4)\n",
      "memory usage: 8.1+ MB\n"
     ]
    }
   ],
   "source": [
    "trans_df.info()"
   ]
  },
  {
   "cell_type": "markdown",
   "id": "1b19a10c",
   "metadata": {},
   "source": [
    "## <span style=\"color:#ff5f27;\"> 🛠️ Feature Engineering </span>\n",
    "\n",
    "Fraudulent transactions can differ from regular ones in many different ways. Typical red flags would for instance be a large transaction volume/frequency in the span of a few hours. It could also be the case that elderly people in particular are targeted by fraudsters. To facilitate model learning you will create additional features based on these patterns. In particular, you will create two types of features:\n",
    "1. **Features that aggregate data from different data sources**. This could for instance be the age of a customer at the time of a transaction, which combines the `birthdate` feature from `profiles.csv` with the `datetime` feature from `transactions.csv`.\n",
    "2. **Features that aggregate data from multiple time steps**. An example of this could be the transaction frequency of a credit card in the span of a few hours, which is computed using a window function.\n",
    "\n",
    "Let's start with the first category."
   ]
  },
  {
   "cell_type": "code",
   "execution_count": 9,
   "id": "8ddafc7d",
   "metadata": {},
   "outputs": [
    {
     "data": {
      "text/html": [
       "<div>\n",
       "<style scoped>\n",
       "    .dataframe tbody tr th:only-of-type {\n",
       "        vertical-align: middle;\n",
       "    }\n",
       "\n",
       "    .dataframe tbody tr th {\n",
       "        vertical-align: top;\n",
       "    }\n",
       "\n",
       "    .dataframe thead th {\n",
       "        text-align: right;\n",
       "    }\n",
       "</style>\n",
       "<table border=\"1\" class=\"dataframe\">\n",
       "  <thead>\n",
       "    <tr style=\"text-align: right;\">\n",
       "      <th></th>\n",
       "      <th>tid</th>\n",
       "      <th>datetime</th>\n",
       "      <th>cc_num</th>\n",
       "      <th>category</th>\n",
       "      <th>amount</th>\n",
       "      <th>city</th>\n",
       "      <th>country</th>\n",
       "      <th>age_at_transaction</th>\n",
       "      <th>days_until_card_expires</th>\n",
       "      <th>loc_delta_t_minus_1</th>\n",
       "      <th>time_delta_t_minus_1</th>\n",
       "    </tr>\n",
       "  </thead>\n",
       "  <tbody>\n",
       "    <tr>\n",
       "      <th>0</th>\n",
       "      <td>11df919988c134d97bbff2678eb68e22</td>\n",
       "      <td>1640995224000</td>\n",
       "      <td>4473593503484549</td>\n",
       "      <td>Health/Beauty</td>\n",
       "      <td>62.95</td>\n",
       "      <td>Canton</td>\n",
       "      <td>US</td>\n",
       "      <td>97.513297</td>\n",
       "      <td>1460.999722</td>\n",
       "      <td>0.221947</td>\n",
       "      <td>1.361921</td>\n",
       "    </tr>\n",
       "    <tr>\n",
       "      <th>1</th>\n",
       "      <td>dd0b2d6d4266ccd3bf05bc2ea91cf180</td>\n",
       "      <td>1640995256000</td>\n",
       "      <td>4272465718946864</td>\n",
       "      <td>Grocery</td>\n",
       "      <td>85.45</td>\n",
       "      <td>Laguna Niguel</td>\n",
       "      <td>US</td>\n",
       "      <td>33.752919</td>\n",
       "      <td>1733.999352</td>\n",
       "      <td>0.103615</td>\n",
       "      <td>1.050301</td>\n",
       "    </tr>\n",
       "    <tr>\n",
       "      <th>2</th>\n",
       "      <td>e627f5d9a9739833bd52d2da51761fc3</td>\n",
       "      <td>1640995352000</td>\n",
       "      <td>4104216579248948</td>\n",
       "      <td>Domestic Transport</td>\n",
       "      <td>21.63</td>\n",
       "      <td>Mechanicsville</td>\n",
       "      <td>US</td>\n",
       "      <td>80.899681</td>\n",
       "      <td>242.998241</td>\n",
       "      <td>0.167885</td>\n",
       "      <td>3.326192</td>\n",
       "    </tr>\n",
       "    <tr>\n",
       "      <th>3</th>\n",
       "      <td>6fb3e6beafbb92b8e15827037f603c52</td>\n",
       "      <td>1640995404000</td>\n",
       "      <td>4814447237003448</td>\n",
       "      <td>Health/Beauty</td>\n",
       "      <td>54.71</td>\n",
       "      <td>Nampa</td>\n",
       "      <td>US</td>\n",
       "      <td>53.526088</td>\n",
       "      <td>150.997639</td>\n",
       "      <td>0.263511</td>\n",
       "      <td>1.709850</td>\n",
       "    </tr>\n",
       "    <tr>\n",
       "      <th>4</th>\n",
       "      <td>be0b8acc57bfe126a5a392fd99e6ddd1</td>\n",
       "      <td>1640995435000</td>\n",
       "      <td>4515188652242507</td>\n",
       "      <td>Grocery</td>\n",
       "      <td>59.22</td>\n",
       "      <td>Pottstown</td>\n",
       "      <td>US</td>\n",
       "      <td>46.005059</td>\n",
       "      <td>515.997280</td>\n",
       "      <td>0.573918</td>\n",
       "      <td>2.961331</td>\n",
       "    </tr>\n",
       "    <tr>\n",
       "      <th>...</th>\n",
       "      <td>...</td>\n",
       "      <td>...</td>\n",
       "      <td>...</td>\n",
       "      <td>...</td>\n",
       "      <td>...</td>\n",
       "      <td>...</td>\n",
       "      <td>...</td>\n",
       "      <td>...</td>\n",
       "      <td>...</td>\n",
       "      <td>...</td>\n",
       "      <td>...</td>\n",
       "    </tr>\n",
       "    <tr>\n",
       "      <th>61905</th>\n",
       "      <td>e967e55653d02d9863ece69eb8068368</td>\n",
       "      <td>1651488694000</td>\n",
       "      <td>4581222106011785</td>\n",
       "      <td>Cash Withdrawal</td>\n",
       "      <td>97.49</td>\n",
       "      <td>Carlsbad</td>\n",
       "      <td>US</td>\n",
       "      <td>21.841523</td>\n",
       "      <td>-62.452477</td>\n",
       "      <td>0.000000</td>\n",
       "      <td>0.000000</td>\n",
       "    </tr>\n",
       "    <tr>\n",
       "      <th>62165</th>\n",
       "      <td>b03d8b31c07fff8378edf6f4b15faa6a</td>\n",
       "      <td>1651693447000</td>\n",
       "      <td>4176661673840251</td>\n",
       "      <td>Cash Withdrawal</td>\n",
       "      <td>43.65</td>\n",
       "      <td>Aloha</td>\n",
       "      <td>US</td>\n",
       "      <td>92.466847</td>\n",
       "      <td>180.177697</td>\n",
       "      <td>0.000000</td>\n",
       "      <td>0.000000</td>\n",
       "    </tr>\n",
       "    <tr>\n",
       "      <th>70175</th>\n",
       "      <td>3acb0c896855087ca5e0045ddee1121d</td>\n",
       "      <td>1651790995000</td>\n",
       "      <td>4295947736465426</td>\n",
       "      <td>Cash Withdrawal</td>\n",
       "      <td>100.92</td>\n",
       "      <td>Gainesville</td>\n",
       "      <td>US</td>\n",
       "      <td>53.123476</td>\n",
       "      <td>1487.048669</td>\n",
       "      <td>0.000000</td>\n",
       "      <td>0.000000</td>\n",
       "    </tr>\n",
       "    <tr>\n",
       "      <th>103887</th>\n",
       "      <td>44ae59516c9c0a6d43f75ba1df294e33</td>\n",
       "      <td>1651892153000</td>\n",
       "      <td>4697434187093357</td>\n",
       "      <td>Cash Withdrawal</td>\n",
       "      <td>99.91</td>\n",
       "      <td>Columbia Heights</td>\n",
       "      <td>US</td>\n",
       "      <td>94.778461</td>\n",
       "      <td>85.877859</td>\n",
       "      <td>0.000000</td>\n",
       "      <td>0.000000</td>\n",
       "    </tr>\n",
       "    <tr>\n",
       "      <th>72673</th>\n",
       "      <td>1195fba408722e4dc174e0999a0c01b4</td>\n",
       "      <td>1651942639000</td>\n",
       "      <td>4484691207223952</td>\n",
       "      <td>Cash Withdrawal</td>\n",
       "      <td>54.41</td>\n",
       "      <td>Boston</td>\n",
       "      <td>US</td>\n",
       "      <td>47.789363</td>\n",
       "      <td>297.293530</td>\n",
       "      <td>0.000000</td>\n",
       "      <td>0.000000</td>\n",
       "    </tr>\n",
       "  </tbody>\n",
       "</table>\n",
       "<p>106020 rows × 11 columns</p>\n",
       "</div>"
      ],
      "text/plain": [
       "                                     tid       datetime            cc_num  \\\n",
       "0       11df919988c134d97bbff2678eb68e22  1640995224000  4473593503484549   \n",
       "1       dd0b2d6d4266ccd3bf05bc2ea91cf180  1640995256000  4272465718946864   \n",
       "2       e627f5d9a9739833bd52d2da51761fc3  1640995352000  4104216579248948   \n",
       "3       6fb3e6beafbb92b8e15827037f603c52  1640995404000  4814447237003448   \n",
       "4       be0b8acc57bfe126a5a392fd99e6ddd1  1640995435000  4515188652242507   \n",
       "...                                  ...            ...               ...   \n",
       "61905   e967e55653d02d9863ece69eb8068368  1651488694000  4581222106011785   \n",
       "62165   b03d8b31c07fff8378edf6f4b15faa6a  1651693447000  4176661673840251   \n",
       "70175   3acb0c896855087ca5e0045ddee1121d  1651790995000  4295947736465426   \n",
       "103887  44ae59516c9c0a6d43f75ba1df294e33  1651892153000  4697434187093357   \n",
       "72673   1195fba408722e4dc174e0999a0c01b4  1651942639000  4484691207223952   \n",
       "\n",
       "                  category  amount              city country  \\\n",
       "0            Health/Beauty   62.95            Canton      US   \n",
       "1                  Grocery   85.45     Laguna Niguel      US   \n",
       "2       Domestic Transport   21.63    Mechanicsville      US   \n",
       "3            Health/Beauty   54.71             Nampa      US   \n",
       "4                  Grocery   59.22         Pottstown      US   \n",
       "...                    ...     ...               ...     ...   \n",
       "61905      Cash Withdrawal   97.49          Carlsbad      US   \n",
       "62165      Cash Withdrawal   43.65             Aloha      US   \n",
       "70175      Cash Withdrawal  100.92       Gainesville      US   \n",
       "103887     Cash Withdrawal   99.91  Columbia Heights      US   \n",
       "72673      Cash Withdrawal   54.41            Boston      US   \n",
       "\n",
       "        age_at_transaction  days_until_card_expires  loc_delta_t_minus_1  \\\n",
       "0                97.513297              1460.999722             0.221947   \n",
       "1                33.752919              1733.999352             0.103615   \n",
       "2                80.899681               242.998241             0.167885   \n",
       "3                53.526088               150.997639             0.263511   \n",
       "4                46.005059               515.997280             0.573918   \n",
       "...                    ...                      ...                  ...   \n",
       "61905            21.841523               -62.452477             0.000000   \n",
       "62165            92.466847               180.177697             0.000000   \n",
       "70175            53.123476              1487.048669             0.000000   \n",
       "103887           94.778461                85.877859             0.000000   \n",
       "72673            47.789363               297.293530             0.000000   \n",
       "\n",
       "        time_delta_t_minus_1  \n",
       "0                   1.361921  \n",
       "1                   1.050301  \n",
       "2                   3.326192  \n",
       "3                   1.709850  \n",
       "4                   2.961331  \n",
       "...                      ...  \n",
       "61905               0.000000  \n",
       "62165               0.000000  \n",
       "70175               0.000000  \n",
       "103887              0.000000  \n",
       "72673               0.000000  \n",
       "\n",
       "[106020 rows x 11 columns]"
      ]
     },
     "execution_count": 9,
     "metadata": {},
     "output_type": "execute_result"
    }
   ],
   "source": [
    "from sml import cc_features\n",
    "import warnings\n",
    "warnings.filterwarnings('ignore')\n",
    "\n",
    "fraud_labels = trans_df[[\"tid\", \"cc_num\", \"datetime\", \"fraud_label\"]]\n",
    "fraud_labels.datetime = fraud_labels.datetime.map(lambda x: cc_features.date_to_timestamp(x))\n",
    "\n",
    "trans_df = trans_df.drop(['fraud_label'], axis=1)\n",
    "trans_df = cc_features.card_owner_age(trans_df, profiles_df)\n",
    "trans_df = cc_features.expiry_days(trans_df, credit_cards_df)\n",
    "trans_df = cc_features.activity_level(trans_df, 1)\n",
    "\n",
    "trans_df"
   ]
  },
  {
   "cell_type": "markdown",
   "id": "6005061f",
   "metadata": {},
   "source": [
    "Next, you will create features that for each credit card aggregate data from multiple time steps.\n",
    "\n",
    "Yoy will start by computing the distance between consecutive transactions, lets call it `loc_delta`.\n",
    "Here you will use the [Haversine distance](https://scikit-learn.org/stable/modules/generated/sklearn.metrics.pairwise.haversine_distances.html?highlight=haversine#sklearn.metrics.pairwise.haversine_distances) to quantify the distance between two longitude and latitude coordinates."
   ]
  },
  {
   "cell_type": "markdown",
   "id": "17550c16",
   "metadata": {},
   "source": [
    "Before you can create a feature group you need to connect to Hopsworks feature store."
   ]
  },
  {
   "cell_type": "code",
   "execution_count": 10,
   "id": "26b129f9",
   "metadata": {},
   "outputs": [
    {
     "name": "stdout",
     "output_type": "stream",
     "text": [
      "Copy your Api Key (first register/login): https://c.app.hopsworks.ai/account/api/generated\n",
      "Connected. Call `.close()` to terminate connection gracefully.\n",
      "\n",
      "Logged in to project, explore it here https://c.app.hopsworks.ai:443/p/547992\n",
      "Connected. Call `.close()` to terminate connection gracefully.\n"
     ]
    }
   ],
   "source": [
    "project = hopsworks.login()\n",
    "fs = project.get_feature_store()"
   ]
  },
  {
   "cell_type": "markdown",
   "id": "907fdf21",
   "metadata": {},
   "source": [
    "Next lets compute windowed aggregates. Here you will use 4-hour windows, but feel free to experiment with different window lengths by setting `window_len` below to a value of your choice."
   ]
  },
  {
   "cell_type": "code",
   "execution_count": 11,
   "id": "28d127bc",
   "metadata": {},
   "outputs": [
    {
     "data": {
      "text/html": [
       "<div>\n",
       "<style scoped>\n",
       "    .dataframe tbody tr th:only-of-type {\n",
       "        vertical-align: middle;\n",
       "    }\n",
       "\n",
       "    .dataframe tbody tr th {\n",
       "        vertical-align: top;\n",
       "    }\n",
       "\n",
       "    .dataframe thead th {\n",
       "        text-align: right;\n",
       "    }\n",
       "</style>\n",
       "<table border=\"1\" class=\"dataframe\">\n",
       "  <thead>\n",
       "    <tr style=\"text-align: right;\">\n",
       "      <th></th>\n",
       "      <th>trans_volume_mstd</th>\n",
       "      <th>trans_volume_mavg</th>\n",
       "      <th>trans_freq</th>\n",
       "      <th>loc_delta_mavg</th>\n",
       "      <th>cc_num</th>\n",
       "      <th>datetime</th>\n",
       "    </tr>\n",
       "  </thead>\n",
       "  <tbody>\n",
       "    <tr>\n",
       "      <th>106015</th>\n",
       "      <td>2420.3075</td>\n",
       "      <td>2420.3075</td>\n",
       "      <td>2420.3075</td>\n",
       "      <td>0.045692</td>\n",
       "      <td>4032019521897961</td>\n",
       "      <td>1648119422000</td>\n",
       "    </tr>\n",
       "    <tr>\n",
       "      <th>106016</th>\n",
       "      <td>123.8425</td>\n",
       "      <td>123.8425</td>\n",
       "      <td>123.8425</td>\n",
       "      <td>0.034348</td>\n",
       "      <td>4032019521897961</td>\n",
       "      <td>1648468622000</td>\n",
       "    </tr>\n",
       "    <tr>\n",
       "      <th>106017</th>\n",
       "      <td>118.4400</td>\n",
       "      <td>118.4400</td>\n",
       "      <td>118.4400</td>\n",
       "      <td>0.034406</td>\n",
       "      <td>4032019521897961</td>\n",
       "      <td>1648817822000</td>\n",
       "    </tr>\n",
       "    <tr>\n",
       "      <th>106018</th>\n",
       "      <td>155.5125</td>\n",
       "      <td>155.5125</td>\n",
       "      <td>155.5125</td>\n",
       "      <td>0.034470</td>\n",
       "      <td>4032019521897961</td>\n",
       "      <td>1649167022000</td>\n",
       "    </tr>\n",
       "    <tr>\n",
       "      <th>106019</th>\n",
       "      <td>203.4075</td>\n",
       "      <td>203.4075</td>\n",
       "      <td>203.4075</td>\n",
       "      <td>0.034466</td>\n",
       "      <td>4032019521897961</td>\n",
       "      <td>1649516222000</td>\n",
       "    </tr>\n",
       "  </tbody>\n",
       "</table>\n",
       "</div>"
      ],
      "text/plain": [
       "        trans_volume_mstd  trans_volume_mavg  trans_freq  loc_delta_mavg  \\\n",
       "106015          2420.3075          2420.3075   2420.3075        0.045692   \n",
       "106016           123.8425           123.8425    123.8425        0.034348   \n",
       "106017           118.4400           118.4400    118.4400        0.034406   \n",
       "106018           155.5125           155.5125    155.5125        0.034470   \n",
       "106019           203.4075           203.4075    203.4075        0.034466   \n",
       "\n",
       "                  cc_num       datetime  \n",
       "106015  4032019521897961  1648119422000  \n",
       "106016  4032019521897961  1648468622000  \n",
       "106017  4032019521897961  1648817822000  \n",
       "106018  4032019521897961  1649167022000  \n",
       "106019  4032019521897961  1649516222000  "
      ]
     },
     "execution_count": 11,
     "metadata": {},
     "output_type": "execute_result"
    }
   ],
   "source": [
    "window_len = 4\n",
    "window_aggs_df = cc_features.aggregate_activity_by_hour(trans_df, window_len)\n",
    "window_aggs_df.tail()"
   ]
  },
  {
   "cell_type": "markdown",
   "id": "2dd3511c",
   "metadata": {},
   "source": [
    "## <span style=\"color:#ff5f27;\"> 🪄 Creating Feature Groups </span>\n",
    "\n",
    "A [feature group](https://docs.hopsworks.ai/feature-store-api/latest/generated/feature_group/) can be seen as a collection of conceptually related features. In this case, you will create a feature group for the transaction data and a feature group for the windowed aggregations on the transaction data. Both will have `cc_num` as primary key, which will allow you to join them when creating a dataset in the next tutorial.\n",
    "\n",
    "Feature groups can also be used to define a namespace for features. For instance, in a real-life setting you would likely want to experiment with different window lengths. In that case, you can create feature groups with identical schema for each window length. "
   ]
  },
  {
   "cell_type": "markdown",
   "id": "5f681f2c",
   "metadata": {},
   "source": [
    "To create a feature group you need to give it a name and specify a primary key. It is also good to provide a description of the contents of the feature group and a version number, if it is not defined it will automatically be incremented to `1`."
   ]
  },
  {
   "cell_type": "code",
   "execution_count": 12,
   "id": "c09e155a",
   "metadata": {},
   "outputs": [],
   "source": [
    "trans_fg = fs.get_or_create_feature_group(\n",
    "    name=\"cc_trans_fraud\",\n",
    "    version=2,\n",
    "    description=\"Credit Card transactions\",\n",
    "    primary_key=[\"cc_num\"],\n",
    "    event_time=\"datetime\"\n",
    ")"
   ]
  },
  {
   "cell_type": "markdown",
   "id": "9c9e26ec",
   "metadata": {},
   "source": [
    "A full list of arguments can be found in the [documentation](https://docs.hopsworks.ai/feature-store-api/latest/generated/api/feature_store_api/#create_feature_group).\n",
    "\n",
    "At this point, you have only specified some metadata for the feature group. It does not store any data or even have a schema defined for the data. To make the feature group persistent you need to populate it with its associated data using the `insert` function."
   ]
  },
  {
   "cell_type": "code",
   "execution_count": 13,
   "id": "b31bf1db",
   "metadata": {},
   "outputs": [
    {
     "name": "stdout",
     "output_type": "stream",
     "text": [
      "Feature Group created successfully, explore it at \n",
      "https://c.app.hopsworks.ai:443/p/547992/fs/543815/fg/641390\n"
     ]
    },
    {
     "name": "stderr",
     "output_type": "stream",
     "text": [
      "Uploading Dataframe: 100.00% |██████████| Rows 106020/106020 | Elapsed Time: 00:13 | Remaining Time: 00:00\n"
     ]
    },
    {
     "name": "stdout",
     "output_type": "stream",
     "text": [
      "Launching job: cc_trans_fraud_2_offline_fg_materialization\n",
      "Job started successfully, you can follow the progress at \n",
      "https://c.app.hopsworks.ai/p/547992/jobs/named/cc_trans_fraud_2_offline_fg_materialization/executions\n"
     ]
    },
    {
     "data": {
      "text/plain": [
       "(<hsfs.core.job.Job at 0x7f1d34a651b0>, None)"
      ]
     },
     "execution_count": 13,
     "metadata": {},
     "output_type": "execute_result"
    }
   ],
   "source": [
    "trans_fg.insert(trans_df, write_options={\"wait_for_job\" : False})"
   ]
  },
  {
   "cell_type": "code",
   "execution_count": 14,
   "id": "1ccb3773",
   "metadata": {},
   "outputs": [],
   "source": [
    "feature_descriptions = [\n",
    "    {\"name\": \"tid\", \"description\": \"Transaction id\"},\n",
    "    {\"name\": \"datetime\", \"description\": \"Transaction time\"},\n",
    "    {\"name\": \"cc_num\", \"description\": \"Number of the credit card performing the transaction\"},\n",
    "    {\"name\": \"category\", \"description\": \"Expense category\"},\n",
    "    {\"name\": \"amount\", \"description\": \"Dollar amount of the transaction\"},\n",
    "    {\"name\": \"city\", \"description\": \"City in which the transaction was made\"},\n",
    "    {\"name\": \"country\", \"description\": \"Country in which the transaction was made\"},\n",
    "    {\"name\": \"age_at_transaction\", \"description\": \"Age of the card holder when the transaction was made\"},\n",
    "    {\"name\": \"days_until_card_expires\", \"description\": \"Card validity days left when the transaction was made\"},\n",
    "    {\"name\": \"loc_delta_t_minus_1\", \"description\": \"Haversine distance between this transaction location and the previous transaction location from the same card\"},\n",
    "    {\"name\": \"time_delta_t_minus_1\", \"description\": \"Time in days between this transaction and the previous transaction location from the same card\"},\n",
    "]\n",
    "\n",
    "for desc in feature_descriptions: \n",
    "    trans_fg.update_feature_description(desc[\"name\"], desc[\"description\"])"
   ]
  },
  {
   "cell_type": "markdown",
   "id": "29ec2f2f",
   "metadata": {},
   "source": [
    "At the creation of the feature group, you will be prompted with an URL that will directly link to it; there you will be able to explore some of the aspects of your newly created feature group.\n",
    "\n",
    "[//]: <> (insert GIF here)"
   ]
  },
  {
   "cell_type": "markdown",
   "id": "322b968e",
   "metadata": {},
   "source": [
    "You can move on and do the same thing for the feature group with our windows aggregation."
   ]
  },
  {
   "cell_type": "code",
   "execution_count": 15,
   "id": "67727af4",
   "metadata": {},
   "outputs": [],
   "source": [
    "window_aggs_fg = fs.get_or_create_feature_group(\n",
    "    name=f\"cc_trans_fraud_{window_len}h\",\n",
    "    version=2,\n",
    "    description=f\"Counts of the number of credit card transactions over {window_len} hour windows.\",\n",
    "    primary_key=[\"cc_num\"],\n",
    "    event_time=\"datetime\"\n",
    ")"
   ]
  },
  {
   "cell_type": "code",
   "execution_count": 16,
   "id": "b0d64818",
   "metadata": {},
   "outputs": [
    {
     "name": "stdout",
     "output_type": "stream",
     "text": [
      "Feature Group created successfully, explore it at \n",
      "https://c.app.hopsworks.ai:443/p/547992/fs/543815/fg/640373\n"
     ]
    },
    {
     "name": "stderr",
     "output_type": "stream",
     "text": [
      "Uploading Dataframe: 100.00% |██████████| Rows 106020/106020 | Elapsed Time: 00:09 | Remaining Time: 00:00\n"
     ]
    },
    {
     "name": "stdout",
     "output_type": "stream",
     "text": [
      "Launching job: cc_trans_fraud_4h_2_offline_fg_materialization\n",
      "Job started successfully, you can follow the progress at \n",
      "https://c.app.hopsworks.ai/p/547992/jobs/named/cc_trans_fraud_4h_2_offline_fg_materialization/executions\n"
     ]
    },
    {
     "data": {
      "text/plain": [
       "(<hsfs.core.job.Job at 0x7f1d1bed9c30>, None)"
      ]
     },
     "execution_count": 16,
     "metadata": {},
     "output_type": "execute_result"
    }
   ],
   "source": [
    "window_aggs_fg.insert(window_aggs_df, write_options={\"wait_for_job\" : False})"
   ]
  },
  {
   "cell_type": "code",
   "execution_count": 17,
   "id": "ce5bb4a7",
   "metadata": {},
   "outputs": [],
   "source": [
    "feature_descriptions = [\n",
    "    {\"name\": \"datetime\", \"description\": \"Transaction time\"},\n",
    "    {\"name\": \"cc_num\", \"description\": \"Number of the credit card performing the transaction\"},\n",
    "    {\"name\": \"loc_delta_mavg\", \"description\": \"Moving average of location difference between consecutive transactions from the same card\"},\n",
    "    {\"name\": \"trans_freq\", \"description\": \"Moving average of transaction frequency from the same card\"},\n",
    "    {\"name\": \"trans_volume_mavg\", \"description\": \"Moving average of transaction volume from the same card\"},\n",
    "    {\"name\": \"trans_volume_mstd\", \"description\": \"Moving standard deviation of transaction volume from the same card\"},\n",
    "]\n",
    "\n",
    "for desc in feature_descriptions: \n",
    "    window_aggs_fg.update_feature_description(desc[\"name\"], desc[\"description\"])"
   ]
  },
  {
   "cell_type": "code",
   "execution_count": 18,
   "id": "07c6726c",
   "metadata": {},
   "outputs": [
    {
     "name": "stdout",
     "output_type": "stream",
     "text": [
      "Feature Group created successfully, explore it at \n",
      "https://c.app.hopsworks.ai:443/p/547992/fs/543815/fg/642414\n"
     ]
    },
    {
     "name": "stderr",
     "output_type": "stream",
     "text": [
      "Uploading Dataframe: 100.00% |██████████| Rows 106020/106020 | Elapsed Time: 00:11 | Remaining Time: 00:00\n"
     ]
    },
    {
     "name": "stdout",
     "output_type": "stream",
     "text": [
      "Launching job: transactions_fraud_label_2_offline_fg_materialization\n",
      "Job started successfully, you can follow the progress at \n",
      "https://c.app.hopsworks.ai/p/547992/jobs/named/transactions_fraud_label_2_offline_fg_materialization/executions\n"
     ]
    },
    {
     "data": {
      "text/plain": [
       "(<hsfs.core.job.Job at 0x7f1d1cc376a0>, None)"
      ]
     },
     "execution_count": 18,
     "metadata": {},
     "output_type": "execute_result"
    }
   ],
   "source": [
    "trans_label_fg = fs.get_or_create_feature_group(\n",
    "    name=\"transactions_fraud_label\",\n",
    "    version=2,\n",
    "    description=\"CC transactions that have been flagged as fraud\",\n",
    "    primary_key=['cc_num'],\n",
    "    event_time='datetime'\n",
    ")\n",
    "\n",
    "trans_label_fg.insert(fraud_labels, write_options={\"wait_for_job\" : False})"
   ]
  },
  {
   "cell_type": "code",
   "execution_count": 19,
   "id": "8d270d58",
   "metadata": {},
   "outputs": [],
   "source": [
    "feature_descriptions = [\n",
    "    {\"name\": \"tid\", \"description\": \"Transaction id\"},\n",
    "    {\"name\": \"cc_num\", \"description\": \"Number of the credit card performing the transaction\"},    \n",
    "    {\"name\": \"datetime\", \"description\": \"Transaction time\"},\n",
    "    {\"name\": \"fraud_label\", \"description\": \"Whether the transaction was fraudulent or not\"},\n",
    "]\n",
    "for desc in feature_descriptions: \n",
    "    trans_label_fg.update_feature_description(desc[\"name\"], desc[\"description\"])"
   ]
  },
  {
   "cell_type": "markdown",
   "id": "867f0b86",
   "metadata": {},
   "source": [
    "Both feature groups are now accessible and searchable in the UI"
   ]
  },
  {
   "cell_type": "markdown",
   "id": "61389c9a",
   "metadata": {},
   "source": [
    "## <span style=\"color:#ff5f27;\">⏭️ **Next:** Synthetic Data Feature Pipeline </span>\n",
    "\n",
    "In the following notebook you will use create synthetic data that will be used to create features that are written to the  feature groups you created here."
   ]
  },
  {
   "cell_type": "code",
   "execution_count": null,
   "id": "84b963b4",
   "metadata": {},
   "outputs": [],
   "source": []
  }
 ],
 "metadata": {
  "interpreter": {
   "hash": "e1ddeae6eefc765c17da80d38ea59b893ab18c0c0904077a035ef84cfe367f83"
  },
  "kernelspec": {
   "display_name": "Python 3 (ipykernel)",
   "language": "python",
   "name": "python3"
  },
  "language_info": {
   "codemirror_mode": {
    "name": "ipython",
    "version": 3
   },
   "file_extension": ".py",
   "mimetype": "text/x-python",
   "name": "python",
   "nbconvert_exporter": "python",
   "pygments_lexer": "ipython3",
   "version": "3.10.13"
  }
 },
 "nbformat": 4,
 "nbformat_minor": 5
}
