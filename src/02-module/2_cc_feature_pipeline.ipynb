{
 "cells": [
  {
   "cell_type": "markdown",
   "id": "a03cd759",
   "metadata": {},
   "source": [
    "# Feature Pipeline using Synthetic Data\n",
    "\n",
    "[![Open In Colab](https://colab.research.google.com/assets/colab-badge.svg)](https://colab.research.google.com/github/featurestoreorg/serverless-ml-course/blob/main/src/02-module/2_cc_feature_pipeline.ipynb)\n",
    "\n",
    "**Note**: you may get an error when installing hopsworks on Colab, and it is safe to ignore it.\n",
    "\n",
    "## 🗒️ This notebook is divided in 2 sections:\n",
    "1. Reading the synthetic credit card data and feature engineeing,\n",
    "2. Write the Pandas DataFrames to the feature groups in the feature store.\n"
   ]
  },
  {
   "cell_type": "code",
   "execution_count": 2,
   "id": "6b730276",
   "metadata": {},
   "outputs": [],
   "source": [
    "#!pip install -U hopsworks --quiet\n",
    "!pip install -U faker --quiet"
   ]
  },
  {
   "cell_type": "code",
   "execution_count": 3,
   "id": "aeac6fdc",
   "metadata": {},
   "outputs": [],
   "source": [
    "import pandas as pd\n",
    "import datetime\n",
    "import hopsworks\n",
    "from sml import synthetic_data\n",
    "import random\n",
    "pd.options.mode.chained_assignment = None"
   ]
  },
  {
   "cell_type": "code",
   "execution_count": 4,
   "id": "71c2d6dd",
   "metadata": {},
   "outputs": [
    {
     "name": "stdout",
     "output_type": "stream",
     "text": [
      "2024-03-21 12:48:11\n"
     ]
    }
   ],
   "source": [
    "start_time = (datetime.datetime.now() - datetime.timedelta(hours=24)).strftime(\"%Y-%m-%d %H:%M:%S\")\n",
    "print(start_time)"
   ]
  },
  {
   "cell_type": "code",
   "execution_count": 5,
   "id": "ca60a7d2",
   "metadata": {},
   "outputs": [
    {
     "name": "stdout",
     "output_type": "stream",
     "text": [
      "2024-03-22 12:48:13\n"
     ]
    }
   ],
   "source": [
    "#end_time = (datetime.datetime.now() - datetime.timedelta(hours=24)).strftime(\"%Y-%m-%d %H:%M:%S\")\n",
    "end_time = datetime.datetime.now().strftime(\"%Y-%m-%d %H:%M:%S\")\n",
    "print(end_time)"
   ]
  },
  {
   "cell_type": "code",
   "execution_count": 6,
   "id": "e060fdaa",
   "metadata": {},
   "outputs": [],
   "source": [
    "synthetic_data.FRAUD_RATIO = random.uniform(0.001, 0.005)\n",
    "synthetic_data.TOTAL_UNIQUE_USERS = 1000\n",
    "synthetic_data.TOTAL_UNIQUE_TRANSACTIONS = 54000\n",
    "synthetic_data.CASH_WITHRAWAL_CARDS_TOTAL = 2000\n",
    "synthetic_data.TOTAL_UNIQUE_CASH_WITHDRAWALS = 200\n",
    "synthetic_data.START_DATE=start_time\n",
    "synthetic_data.END_DATE=end_time\n",
    "\n",
    "credit_cards = synthetic_data.generate_list_credit_card_numbers()\n",
    "credit_cards_df = synthetic_data.create_credit_cards_as_df(credit_cards)\n",
    "profiles_df = synthetic_data.create_profiles_as_df(credit_cards)\n",
    "trans_df = synthetic_data.create_transactions_as_df(credit_cards)"
   ]
  },
  {
   "cell_type": "markdown",
   "id": "0ba601c9",
   "metadata": {},
   "source": [
    "## <span style=\"color:#ff5f27;\"> 🛠️ Feature Engineering </span>\n",
    "\n",
    "Fraudulent transactions can differ from regular ones in many different ways. Typical red flags would for instance be a large transaction volume/frequency in the span of a few hours. It could also be the case that elderly people in particular are targeted by fraudsters. To facilitate model learning you will create additional features based on these patterns. In particular, you will create two types of features:\n",
    "1. **Features that aggregate data from different data sources**. This could for instance be the age of a customer at the time of a transaction, which combines the `birthdate` feature from `profiles.csv` with the `datetime` feature from `transactions.csv`.\n",
    "2. **Features that aggregate data from multiple time steps**. An example of this could be the transaction frequency of a credit card in the span of a few hours, which is computed using a window function.\n",
    "\n",
    "Let's start with the first category."
   ]
  },
  {
   "cell_type": "code",
   "execution_count": 7,
   "id": "741f6f20",
   "metadata": {},
   "outputs": [
    {
     "data": {
      "text/html": [
       "<div>\n",
       "<style scoped>\n",
       "    .dataframe tbody tr th:only-of-type {\n",
       "        vertical-align: middle;\n",
       "    }\n",
       "\n",
       "    .dataframe tbody tr th {\n",
       "        vertical-align: top;\n",
       "    }\n",
       "\n",
       "    .dataframe thead th {\n",
       "        text-align: right;\n",
       "    }\n",
       "</style>\n",
       "<table border=\"1\" class=\"dataframe\">\n",
       "  <thead>\n",
       "    <tr style=\"text-align: right;\">\n",
       "      <th></th>\n",
       "      <th>tid</th>\n",
       "      <th>cc_num</th>\n",
       "      <th>datetime</th>\n",
       "      <th>fraud_label</th>\n",
       "    </tr>\n",
       "  </thead>\n",
       "  <tbody>\n",
       "    <tr>\n",
       "      <th>0</th>\n",
       "      <td>adc25e796202b5eb0ac786d4c93b6161</td>\n",
       "      <td>4118202503389390</td>\n",
       "      <td>2024-03-21 12:48:12</td>\n",
       "      <td>0</td>\n",
       "    </tr>\n",
       "    <tr>\n",
       "      <th>1</th>\n",
       "      <td>9db41ce9a9aaceee11ef6b496176e9a9</td>\n",
       "      <td>4786404303175968</td>\n",
       "      <td>2024-03-21 12:48:16</td>\n",
       "      <td>0</td>\n",
       "    </tr>\n",
       "    <tr>\n",
       "      <th>2</th>\n",
       "      <td>4d484a5e8d466d4b053d4ac3f0da68ef</td>\n",
       "      <td>4218697672505560</td>\n",
       "      <td>2024-03-21 12:48:16</td>\n",
       "      <td>0</td>\n",
       "    </tr>\n",
       "    <tr>\n",
       "      <th>3</th>\n",
       "      <td>2fd8246df1d45ec479f05debf66f558a</td>\n",
       "      <td>4070719751579600</td>\n",
       "      <td>2024-03-21 12:48:17</td>\n",
       "      <td>0</td>\n",
       "    </tr>\n",
       "    <tr>\n",
       "      <th>4</th>\n",
       "      <td>b4a1dc1234ecc463d4d5e4350cbce7fa</td>\n",
       "      <td>4076094619987013</td>\n",
       "      <td>2024-03-21 12:48:21</td>\n",
       "      <td>0</td>\n",
       "    </tr>\n",
       "    <tr>\n",
       "      <th>...</th>\n",
       "      <td>...</td>\n",
       "      <td>...</td>\n",
       "      <td>...</td>\n",
       "      <td>...</td>\n",
       "    </tr>\n",
       "    <tr>\n",
       "      <th>60081</th>\n",
       "      <td>741dd3652a7dfa360d5ba5905a89f867</td>\n",
       "      <td>4134652337490410</td>\n",
       "      <td>2024-04-09 12:27:52</td>\n",
       "      <td>0</td>\n",
       "    </tr>\n",
       "    <tr>\n",
       "      <th>60082</th>\n",
       "      <td>730872eed0ab5eb1e82664fec5076631</td>\n",
       "      <td>4134652337490410</td>\n",
       "      <td>2024-04-12 14:27:52</td>\n",
       "      <td>0</td>\n",
       "    </tr>\n",
       "    <tr>\n",
       "      <th>60083</th>\n",
       "      <td>74492f4f06c4fc9b9d9f84a9ed308fb3</td>\n",
       "      <td>4134652337490410</td>\n",
       "      <td>2024-04-15 16:27:52</td>\n",
       "      <td>0</td>\n",
       "    </tr>\n",
       "    <tr>\n",
       "      <th>60084</th>\n",
       "      <td>d001731d21feabbd262d3f037fdd4c2e</td>\n",
       "      <td>4134652337490410</td>\n",
       "      <td>2024-04-18 18:27:52</td>\n",
       "      <td>0</td>\n",
       "    </tr>\n",
       "    <tr>\n",
       "      <th>60085</th>\n",
       "      <td>8db675e002e886b3795f32610b9d7627</td>\n",
       "      <td>4134652337490410</td>\n",
       "      <td>2024-04-21 20:27:52</td>\n",
       "      <td>0</td>\n",
       "    </tr>\n",
       "  </tbody>\n",
       "</table>\n",
       "<p>60086 rows × 4 columns</p>\n",
       "</div>"
      ],
      "text/plain": [
       "                                    tid            cc_num            datetime  \\\n",
       "0      adc25e796202b5eb0ac786d4c93b6161  4118202503389390 2024-03-21 12:48:12   \n",
       "1      9db41ce9a9aaceee11ef6b496176e9a9  4786404303175968 2024-03-21 12:48:16   \n",
       "2      4d484a5e8d466d4b053d4ac3f0da68ef  4218697672505560 2024-03-21 12:48:16   \n",
       "3      2fd8246df1d45ec479f05debf66f558a  4070719751579600 2024-03-21 12:48:17   \n",
       "4      b4a1dc1234ecc463d4d5e4350cbce7fa  4076094619987013 2024-03-21 12:48:21   \n",
       "...                                 ...               ...                 ...   \n",
       "60081  741dd3652a7dfa360d5ba5905a89f867  4134652337490410 2024-04-09 12:27:52   \n",
       "60082  730872eed0ab5eb1e82664fec5076631  4134652337490410 2024-04-12 14:27:52   \n",
       "60083  74492f4f06c4fc9b9d9f84a9ed308fb3  4134652337490410 2024-04-15 16:27:52   \n",
       "60084  d001731d21feabbd262d3f037fdd4c2e  4134652337490410 2024-04-18 18:27:52   \n",
       "60085  8db675e002e886b3795f32610b9d7627  4134652337490410 2024-04-21 20:27:52   \n",
       "\n",
       "       fraud_label  \n",
       "0                0  \n",
       "1                0  \n",
       "2                0  \n",
       "3                0  \n",
       "4                0  \n",
       "...            ...  \n",
       "60081            0  \n",
       "60082            0  \n",
       "60083            0  \n",
       "60084            0  \n",
       "60085            0  \n",
       "\n",
       "[60086 rows x 4 columns]"
      ]
     },
     "execution_count": 7,
     "metadata": {},
     "output_type": "execute_result"
    }
   ],
   "source": [
    "fraud_labels = trans_df.copy()[[\"tid\", \"cc_num\", \"datetime\", \"fraud_label\"]]\n",
    "fraud_labels"
   ]
  },
  {
   "cell_type": "code",
   "execution_count": 8,
   "id": "4fd45117",
   "metadata": {},
   "outputs": [
    {
     "data": {
      "text/html": [
       "<div>\n",
       "<style scoped>\n",
       "    .dataframe tbody tr th:only-of-type {\n",
       "        vertical-align: middle;\n",
       "    }\n",
       "\n",
       "    .dataframe tbody tr th {\n",
       "        vertical-align: top;\n",
       "    }\n",
       "\n",
       "    .dataframe thead th {\n",
       "        text-align: right;\n",
       "    }\n",
       "</style>\n",
       "<table border=\"1\" class=\"dataframe\">\n",
       "  <thead>\n",
       "    <tr style=\"text-align: right;\">\n",
       "      <th></th>\n",
       "      <th>tid</th>\n",
       "      <th>cc_num</th>\n",
       "      <th>datetime</th>\n",
       "      <th>fraud_label</th>\n",
       "    </tr>\n",
       "  </thead>\n",
       "  <tbody>\n",
       "    <tr>\n",
       "      <th>0</th>\n",
       "      <td>adc25e796202b5eb0ac786d4c93b6161</td>\n",
       "      <td>4118202503389390</td>\n",
       "      <td>1711025292000</td>\n",
       "      <td>0</td>\n",
       "    </tr>\n",
       "    <tr>\n",
       "      <th>1</th>\n",
       "      <td>9db41ce9a9aaceee11ef6b496176e9a9</td>\n",
       "      <td>4786404303175968</td>\n",
       "      <td>1711025296000</td>\n",
       "      <td>0</td>\n",
       "    </tr>\n",
       "    <tr>\n",
       "      <th>2</th>\n",
       "      <td>4d484a5e8d466d4b053d4ac3f0da68ef</td>\n",
       "      <td>4218697672505560</td>\n",
       "      <td>1711025296000</td>\n",
       "      <td>0</td>\n",
       "    </tr>\n",
       "    <tr>\n",
       "      <th>3</th>\n",
       "      <td>2fd8246df1d45ec479f05debf66f558a</td>\n",
       "      <td>4070719751579600</td>\n",
       "      <td>1711025297000</td>\n",
       "      <td>0</td>\n",
       "    </tr>\n",
       "    <tr>\n",
       "      <th>4</th>\n",
       "      <td>b4a1dc1234ecc463d4d5e4350cbce7fa</td>\n",
       "      <td>4076094619987013</td>\n",
       "      <td>1711025301000</td>\n",
       "      <td>0</td>\n",
       "    </tr>\n",
       "    <tr>\n",
       "      <th>...</th>\n",
       "      <td>...</td>\n",
       "      <td>...</td>\n",
       "      <td>...</td>\n",
       "      <td>...</td>\n",
       "    </tr>\n",
       "    <tr>\n",
       "      <th>60081</th>\n",
       "      <td>741dd3652a7dfa360d5ba5905a89f867</td>\n",
       "      <td>4134652337490410</td>\n",
       "      <td>1712665672000</td>\n",
       "      <td>0</td>\n",
       "    </tr>\n",
       "    <tr>\n",
       "      <th>60082</th>\n",
       "      <td>730872eed0ab5eb1e82664fec5076631</td>\n",
       "      <td>4134652337490410</td>\n",
       "      <td>1712932072000</td>\n",
       "      <td>0</td>\n",
       "    </tr>\n",
       "    <tr>\n",
       "      <th>60083</th>\n",
       "      <td>74492f4f06c4fc9b9d9f84a9ed308fb3</td>\n",
       "      <td>4134652337490410</td>\n",
       "      <td>1713198472000</td>\n",
       "      <td>0</td>\n",
       "    </tr>\n",
       "    <tr>\n",
       "      <th>60084</th>\n",
       "      <td>d001731d21feabbd262d3f037fdd4c2e</td>\n",
       "      <td>4134652337490410</td>\n",
       "      <td>1713464872000</td>\n",
       "      <td>0</td>\n",
       "    </tr>\n",
       "    <tr>\n",
       "      <th>60085</th>\n",
       "      <td>8db675e002e886b3795f32610b9d7627</td>\n",
       "      <td>4134652337490410</td>\n",
       "      <td>1713731272000</td>\n",
       "      <td>0</td>\n",
       "    </tr>\n",
       "  </tbody>\n",
       "</table>\n",
       "<p>60086 rows × 4 columns</p>\n",
       "</div>"
      ],
      "text/plain": [
       "                                    tid            cc_num       datetime  \\\n",
       "0      adc25e796202b5eb0ac786d4c93b6161  4118202503389390  1711025292000   \n",
       "1      9db41ce9a9aaceee11ef6b496176e9a9  4786404303175968  1711025296000   \n",
       "2      4d484a5e8d466d4b053d4ac3f0da68ef  4218697672505560  1711025296000   \n",
       "3      2fd8246df1d45ec479f05debf66f558a  4070719751579600  1711025297000   \n",
       "4      b4a1dc1234ecc463d4d5e4350cbce7fa  4076094619987013  1711025301000   \n",
       "...                                 ...               ...            ...   \n",
       "60081  741dd3652a7dfa360d5ba5905a89f867  4134652337490410  1712665672000   \n",
       "60082  730872eed0ab5eb1e82664fec5076631  4134652337490410  1712932072000   \n",
       "60083  74492f4f06c4fc9b9d9f84a9ed308fb3  4134652337490410  1713198472000   \n",
       "60084  d001731d21feabbd262d3f037fdd4c2e  4134652337490410  1713464872000   \n",
       "60085  8db675e002e886b3795f32610b9d7627  4134652337490410  1713731272000   \n",
       "\n",
       "       fraud_label  \n",
       "0                0  \n",
       "1                0  \n",
       "2                0  \n",
       "3                0  \n",
       "4                0  \n",
       "...            ...  \n",
       "60081            0  \n",
       "60082            0  \n",
       "60083            0  \n",
       "60084            0  \n",
       "60085            0  \n",
       "\n",
       "[60086 rows x 4 columns]"
      ]
     },
     "execution_count": 8,
     "metadata": {},
     "output_type": "execute_result"
    }
   ],
   "source": [
    "from sml import cc_features\n",
    "\n",
    "fraud_labels.datetime = fraud_labels.datetime.map(lambda x: cc_features.date_to_timestamp(x))\n",
    "fraud_labels"
   ]
  },
  {
   "cell_type": "code",
   "execution_count": 9,
   "id": "46abff7f",
   "metadata": {},
   "outputs": [
    {
     "data": {
      "text/html": [
       "<div>\n",
       "<style scoped>\n",
       "    .dataframe tbody tr th:only-of-type {\n",
       "        vertical-align: middle;\n",
       "    }\n",
       "\n",
       "    .dataframe tbody tr th {\n",
       "        vertical-align: top;\n",
       "    }\n",
       "\n",
       "    .dataframe thead th {\n",
       "        text-align: right;\n",
       "    }\n",
       "</style>\n",
       "<table border=\"1\" class=\"dataframe\">\n",
       "  <thead>\n",
       "    <tr style=\"text-align: right;\">\n",
       "      <th></th>\n",
       "      <th>tid</th>\n",
       "      <th>datetime</th>\n",
       "      <th>cc_num</th>\n",
       "      <th>category</th>\n",
       "      <th>amount</th>\n",
       "      <th>latitude</th>\n",
       "      <th>longitude</th>\n",
       "      <th>city</th>\n",
       "      <th>country</th>\n",
       "      <th>fraud_label</th>\n",
       "    </tr>\n",
       "  </thead>\n",
       "  <tbody>\n",
       "    <tr>\n",
       "      <th>0</th>\n",
       "      <td>adc25e796202b5eb0ac786d4c93b6161</td>\n",
       "      <td>2024-03-21 12:48:12</td>\n",
       "      <td>4118202503389390</td>\n",
       "      <td>Electronics</td>\n",
       "      <td>456.97</td>\n",
       "      <td>26.684510</td>\n",
       "      <td>-80.667560</td>\n",
       "      <td>Belle Glade</td>\n",
       "      <td>US</td>\n",
       "      <td>0</td>\n",
       "    </tr>\n",
       "    <tr>\n",
       "      <th>1</th>\n",
       "      <td>9db41ce9a9aaceee11ef6b496176e9a9</td>\n",
       "      <td>2024-03-21 12:48:16</td>\n",
       "      <td>4786404303175968</td>\n",
       "      <td>Grocery</td>\n",
       "      <td>71.93</td>\n",
       "      <td>39.717340</td>\n",
       "      <td>-74.969330</td>\n",
       "      <td>Sicklerville</td>\n",
       "      <td>US</td>\n",
       "      <td>0</td>\n",
       "    </tr>\n",
       "    <tr>\n",
       "      <th>2</th>\n",
       "      <td>4d484a5e8d466d4b053d4ac3f0da68ef</td>\n",
       "      <td>2024-03-21 12:48:16</td>\n",
       "      <td>4218697672505560</td>\n",
       "      <td>Restaurant/Cafeteria</td>\n",
       "      <td>10.87</td>\n",
       "      <td>30.166880</td>\n",
       "      <td>-96.397740</td>\n",
       "      <td>Brenham</td>\n",
       "      <td>US</td>\n",
       "      <td>0</td>\n",
       "    </tr>\n",
       "    <tr>\n",
       "      <th>3</th>\n",
       "      <td>2fd8246df1d45ec479f05debf66f558a</td>\n",
       "      <td>2024-03-21 12:48:17</td>\n",
       "      <td>4070719751579600</td>\n",
       "      <td>Grocery</td>\n",
       "      <td>79.64</td>\n",
       "      <td>40.567540</td>\n",
       "      <td>-89.640660</td>\n",
       "      <td>Pekin</td>\n",
       "      <td>US</td>\n",
       "      <td>0</td>\n",
       "    </tr>\n",
       "    <tr>\n",
       "      <th>4</th>\n",
       "      <td>b4a1dc1234ecc463d4d5e4350cbce7fa</td>\n",
       "      <td>2024-03-21 12:48:21</td>\n",
       "      <td>4076094619987013</td>\n",
       "      <td>Holliday/Travel</td>\n",
       "      <td>43.42</td>\n",
       "      <td>36.610330</td>\n",
       "      <td>-88.314760</td>\n",
       "      <td>Murray</td>\n",
       "      <td>US</td>\n",
       "      <td>0</td>\n",
       "    </tr>\n",
       "    <tr>\n",
       "      <th>...</th>\n",
       "      <td>...</td>\n",
       "      <td>...</td>\n",
       "      <td>...</td>\n",
       "      <td>...</td>\n",
       "      <td>...</td>\n",
       "      <td>...</td>\n",
       "      <td>...</td>\n",
       "      <td>...</td>\n",
       "      <td>...</td>\n",
       "      <td>...</td>\n",
       "    </tr>\n",
       "    <tr>\n",
       "      <th>60081</th>\n",
       "      <td>741dd3652a7dfa360d5ba5905a89f867</td>\n",
       "      <td>2024-04-09 12:27:52</td>\n",
       "      <td>4134652337490410</td>\n",
       "      <td>Cash Withdrawal</td>\n",
       "      <td>62.36</td>\n",
       "      <td>34.951040</td>\n",
       "      <td>-120.410433</td>\n",
       "      <td>Santa Maria</td>\n",
       "      <td>US</td>\n",
       "      <td>0</td>\n",
       "    </tr>\n",
       "    <tr>\n",
       "      <th>60082</th>\n",
       "      <td>730872eed0ab5eb1e82664fec5076631</td>\n",
       "      <td>2024-04-12 14:27:52</td>\n",
       "      <td>4134652337490410</td>\n",
       "      <td>Cash Withdrawal</td>\n",
       "      <td>79.94</td>\n",
       "      <td>34.951507</td>\n",
       "      <td>-120.407653</td>\n",
       "      <td>Santa Maria</td>\n",
       "      <td>US</td>\n",
       "      <td>0</td>\n",
       "    </tr>\n",
       "    <tr>\n",
       "      <th>60083</th>\n",
       "      <td>74492f4f06c4fc9b9d9f84a9ed308fb3</td>\n",
       "      <td>2024-04-15 16:27:52</td>\n",
       "      <td>4134652337490410</td>\n",
       "      <td>Cash Withdrawal</td>\n",
       "      <td>2.69</td>\n",
       "      <td>34.961007</td>\n",
       "      <td>-120.410430</td>\n",
       "      <td>Santa Maria</td>\n",
       "      <td>US</td>\n",
       "      <td>0</td>\n",
       "    </tr>\n",
       "    <tr>\n",
       "      <th>60084</th>\n",
       "      <td>d001731d21feabbd262d3f037fdd4c2e</td>\n",
       "      <td>2024-04-18 18:27:52</td>\n",
       "      <td>4134652337490410</td>\n",
       "      <td>Cash Withdrawal</td>\n",
       "      <td>16.80</td>\n",
       "      <td>34.968168</td>\n",
       "      <td>-120.418600</td>\n",
       "      <td>Santa Maria</td>\n",
       "      <td>US</td>\n",
       "      <td>0</td>\n",
       "    </tr>\n",
       "    <tr>\n",
       "      <th>60085</th>\n",
       "      <td>8db675e002e886b3795f32610b9d7627</td>\n",
       "      <td>2024-04-21 20:27:52</td>\n",
       "      <td>4134652337490410</td>\n",
       "      <td>Cash Withdrawal</td>\n",
       "      <td>82.37</td>\n",
       "      <td>34.968516</td>\n",
       "      <td>-120.413675</td>\n",
       "      <td>Santa Maria</td>\n",
       "      <td>US</td>\n",
       "      <td>0</td>\n",
       "    </tr>\n",
       "  </tbody>\n",
       "</table>\n",
       "<p>60086 rows × 10 columns</p>\n",
       "</div>"
      ],
      "text/plain": [
       "                                    tid            datetime            cc_num  \\\n",
       "0      adc25e796202b5eb0ac786d4c93b6161 2024-03-21 12:48:12  4118202503389390   \n",
       "1      9db41ce9a9aaceee11ef6b496176e9a9 2024-03-21 12:48:16  4786404303175968   \n",
       "2      4d484a5e8d466d4b053d4ac3f0da68ef 2024-03-21 12:48:16  4218697672505560   \n",
       "3      2fd8246df1d45ec479f05debf66f558a 2024-03-21 12:48:17  4070719751579600   \n",
       "4      b4a1dc1234ecc463d4d5e4350cbce7fa 2024-03-21 12:48:21  4076094619987013   \n",
       "...                                 ...                 ...               ...   \n",
       "60081  741dd3652a7dfa360d5ba5905a89f867 2024-04-09 12:27:52  4134652337490410   \n",
       "60082  730872eed0ab5eb1e82664fec5076631 2024-04-12 14:27:52  4134652337490410   \n",
       "60083  74492f4f06c4fc9b9d9f84a9ed308fb3 2024-04-15 16:27:52  4134652337490410   \n",
       "60084  d001731d21feabbd262d3f037fdd4c2e 2024-04-18 18:27:52  4134652337490410   \n",
       "60085  8db675e002e886b3795f32610b9d7627 2024-04-21 20:27:52  4134652337490410   \n",
       "\n",
       "                   category  amount   latitude   longitude          city  \\\n",
       "0               Electronics  456.97  26.684510  -80.667560   Belle Glade   \n",
       "1                   Grocery   71.93  39.717340  -74.969330  Sicklerville   \n",
       "2      Restaurant/Cafeteria   10.87  30.166880  -96.397740       Brenham   \n",
       "3                   Grocery   79.64  40.567540  -89.640660         Pekin   \n",
       "4           Holliday/Travel   43.42  36.610330  -88.314760        Murray   \n",
       "...                     ...     ...        ...         ...           ...   \n",
       "60081       Cash Withdrawal   62.36  34.951040 -120.410433   Santa Maria   \n",
       "60082       Cash Withdrawal   79.94  34.951507 -120.407653   Santa Maria   \n",
       "60083       Cash Withdrawal    2.69  34.961007 -120.410430   Santa Maria   \n",
       "60084       Cash Withdrawal   16.80  34.968168 -120.418600   Santa Maria   \n",
       "60085       Cash Withdrawal   82.37  34.968516 -120.413675   Santa Maria   \n",
       "\n",
       "      country  fraud_label  \n",
       "0          US            0  \n",
       "1          US            0  \n",
       "2          US            0  \n",
       "3          US            0  \n",
       "4          US            0  \n",
       "...       ...          ...  \n",
       "60081      US            0  \n",
       "60082      US            0  \n",
       "60083      US            0  \n",
       "60084      US            0  \n",
       "60085      US            0  \n",
       "\n",
       "[60086 rows x 10 columns]"
      ]
     },
     "execution_count": 9,
     "metadata": {},
     "output_type": "execute_result"
    }
   ],
   "source": [
    "trans_df"
   ]
  },
  {
   "cell_type": "code",
   "execution_count": 10,
   "id": "fcadef7c",
   "metadata": {},
   "outputs": [],
   "source": [
    "trans_df.drop(['fraud_label'], inplace = True, axis=1)"
   ]
  },
  {
   "cell_type": "code",
   "execution_count": 11,
   "id": "3d242a03",
   "metadata": {},
   "outputs": [],
   "source": [
    "trans_df = cc_features.card_owner_age(trans_df, profiles_df)\n",
    "trans_df = cc_features.expiry_days(trans_df, credit_cards_df)\n",
    "trans_df = cc_features.activity_level(trans_df, 1)"
   ]
  },
  {
   "cell_type": "code",
   "execution_count": 12,
   "id": "9884c382",
   "metadata": {},
   "outputs": [],
   "source": [
    "window_len = 4\n",
    "window_aggs_df = cc_features.aggregate_activity_by_hour(trans_df, window_len)"
   ]
  },
  {
   "cell_type": "markdown",
   "id": "3acfeba9",
   "metadata": {},
   "source": [
    "Next, you will create features that for each credit card aggregate data from multiple time steps.\n",
    "\n",
    "Yoy will start by computing the distance between consecutive transactions, lets call it `loc_delta`.\n",
    "Here you will use the [Haversine distance](https://scikit-learn.org/stable/modules/generated/sklearn.metrics.pairwise.haversine_distances.html?highlight=haversine#sklearn.metrics.pairwise.haversine_distances) to quantify the distance between two longitude and latitude coordinates."
   ]
  },
  {
   "cell_type": "markdown",
   "id": "deda57e8",
   "metadata": {},
   "source": [
    "Next lets compute windowed aggregates. Here you will use 4-hour windows, but feel free to experiment with different window lengths by setting `window_len` below to a value of your choice."
   ]
  },
  {
   "cell_type": "code",
   "execution_count": 13,
   "id": "cf3ce8b0",
   "metadata": {},
   "outputs": [
    {
     "name": "stdout",
     "output_type": "stream",
     "text": [
      "Connected. Call `.close()` to terminate connection gracefully.\n",
      "\n",
      "Logged in to project, explore it here https://c.app.hopsworks.ai:443/p/547992\n",
      "Connected. Call `.close()` to terminate connection gracefully.\n"
     ]
    }
   ],
   "source": [
    "project = hopsworks.login()\n",
    "fs = project.get_feature_store()"
   ]
  },
  {
   "cell_type": "markdown",
   "id": "9c8c224e",
   "metadata": {},
   "source": [
    "To create a feature group you need to give it a name and specify a primary key. It is also good to provide a description of the contents of the feature group and a version number, if it is not defined it will automatically be incremented to `1`."
   ]
  },
  {
   "cell_type": "code",
   "execution_count": 14,
   "id": "32d5258d",
   "metadata": {},
   "outputs": [
    {
     "name": "stderr",
     "output_type": "stream",
     "text": [
      "Uploading Dataframe: 100.00% |██████████| Rows 60086/60086 | Elapsed Time: 00:10 | Remaining Time: 00:00\n"
     ]
    },
    {
     "name": "stdout",
     "output_type": "stream",
     "text": [
      "Launching job: cc_trans_fraud_2_offline_fg_materialization\n",
      "Job started successfully, you can follow the progress at \n",
      "https://c.app.hopsworks.ai/p/547992/jobs/named/cc_trans_fraud_2_offline_fg_materialization/executions\n"
     ]
    },
    {
     "data": {
      "text/plain": [
       "(<hsfs.core.job.Job at 0x7fe05cea3130>, None)"
      ]
     },
     "execution_count": 14,
     "metadata": {},
     "output_type": "execute_result"
    }
   ],
   "source": [
    "trans_fg = fs.get_feature_group(name=\"cc_trans_fraud\", version=2)\n",
    "trans_fg.insert(trans_df, write_options={\"wait_for_job\" : False})"
   ]
  },
  {
   "cell_type": "code",
   "execution_count": 15,
   "id": "d81ed056",
   "metadata": {},
   "outputs": [
    {
     "name": "stderr",
     "output_type": "stream",
     "text": [
      "Uploading Dataframe: 100.00% |██████████| Rows 60086/60086 | Elapsed Time: 00:07 | Remaining Time: 00:00\n"
     ]
    },
    {
     "name": "stdout",
     "output_type": "stream",
     "text": [
      "Launching job: cc_trans_fraud_4h_2_offline_fg_materialization\n",
      "Job started successfully, you can follow the progress at \n",
      "https://c.app.hopsworks.ai/p/547992/jobs/named/cc_trans_fraud_4h_2_offline_fg_materialization/executions\n"
     ]
    },
    {
     "data": {
      "text/plain": [
       "(<hsfs.core.job.Job at 0x7fe01e529270>, None)"
      ]
     },
     "execution_count": 15,
     "metadata": {},
     "output_type": "execute_result"
    }
   ],
   "source": [
    "window_aggs_fg = fs.get_feature_group(name=f\"cc_trans_fraud_{window_len}h\", version=2)\n",
    "window_aggs_fg.insert(window_aggs_df, write_options={\"wait_for_job\" : False})"
   ]
  },
  {
   "cell_type": "code",
   "execution_count": 16,
   "id": "4167a4a7",
   "metadata": {},
   "outputs": [
    {
     "name": "stderr",
     "output_type": "stream",
     "text": [
      "Uploading Dataframe: 100.00% |██████████| Rows 60086/60086 | Elapsed Time: 00:07 | Remaining Time: 00:00\n"
     ]
    },
    {
     "name": "stdout",
     "output_type": "stream",
     "text": [
      "Launching job: transactions_fraud_label_2_offline_fg_materialization\n",
      "Job started successfully, you can follow the progress at \n",
      "https://c.app.hopsworks.ai/p/547992/jobs/named/transactions_fraud_label_2_offline_fg_materialization/executions\n"
     ]
    },
    {
     "data": {
      "text/plain": [
       "(<hsfs.core.job.Job at 0x7fe01e529360>, None)"
      ]
     },
     "execution_count": 16,
     "metadata": {},
     "output_type": "execute_result"
    }
   ],
   "source": [
    "\n",
    "labels_fg = fs.get_feature_group(name=\"transactions_fraud_label\", version=2)\n",
    "labels_fg.insert(fraud_labels)"
   ]
  },
  {
   "cell_type": "code",
   "execution_count": null,
   "id": "b1c0de4c",
   "metadata": {},
   "outputs": [],
   "source": []
  }
 ],
 "metadata": {
  "interpreter": {
   "hash": "e1ddeae6eefc765c17da80d38ea59b893ab18c0c0904077a035ef84cfe367f83"
  },
  "kernelspec": {
   "display_name": "Python 3 (ipykernel)",
   "language": "python",
   "name": "python3"
  },
  "language_info": {
   "codemirror_mode": {
    "name": "ipython",
    "version": 3
   },
   "file_extension": ".py",
   "mimetype": "text/x-python",
   "name": "python",
   "nbconvert_exporter": "python",
   "pygments_lexer": "ipython3",
   "version": "3.10.13"
  }
 },
 "nbformat": 4,
 "nbformat_minor": 5
}
